{
 "cells": [
  {
   "cell_type": "code",
   "execution_count": null,
   "metadata": {},
   "outputs": [
    {
     "name": "stdout",
     "output_type": "stream",
     "text": [
      "            time  magnitude                                         place  \\\n",
      "0  1740462533000        5.9  122 km NNE of Punta Cana, Dominican Republic   \n",
      "1  1740461848168        5.3              212 km W of Port McNeill, Canada   \n",
      "2  1740457512237        4.7         43 km NE of Ambunti, Papua New Guinea   \n",
      "3  1740452880418        4.8           283 km SSW of Pagar Alam, Indonesia   \n",
      "4  1740448175575        4.7                 south of the Kermadec Islands   \n",
      "\n",
      "       lat       lon  depth  \n",
      "0  19.6430  -68.0740    0.0  \n",
      "1  50.4559 -130.0816   10.0  \n",
      "2  -3.9198  143.0688   35.0  \n",
      "3  -6.4138  102.3188   10.0  \n",
      "4 -32.7588 -178.2075   10.0  \n"
     ]
    }
   ],
   "source": [
    "import requests\n",
    "import pandas as pd\n",
    "\n",
    "def get_global_earthquakes(min_magnitude=3.5, limit=10000):\n",
    "    \"\"\"\n",
    "    USGS API에서 실시간 지진 데이터를 가져옴\n",
    "    \"\"\"\n",
    "    url = \"https://earthquake.usgs.gov/fdsnws/event/1/query\"\n",
    "    params = {\n",
    "        \"format\": \"geojson\",\n",
    "        \"minmagnitude\": min_magnitude,\n",
    "        \"limit\": limit,\n",
    "        \"orderby\": \"time\"\n",
    "    }\n",
    "    \n",
    "    response = requests.get(url, params=params)\n",
    "    if response.status_code != 200:\n",
    "        print(\"⚠️ USGS API 요청 실패! 상태 코드:\", response.status_code)\n",
    "        return pd.DataFrame()  \n",
    "\n",
    "    data = response.json()\n",
    "\n",
    "    earthquakes = []\n",
    "    for feature in data.get(\"features\", []):\n",
    "        properties = feature[\"properties\"]\n",
    "        geometry = feature[\"geometry\"]\n",
    "        earthquakes.append({\n",
    "            \"time\": properties[\"time\"],\n",
    "            \"magnitude\": properties[\"mag\"],\n",
    "            \"place\": properties[\"place\"],\n",
    "            \"lat\": geometry[\"coordinates\"][1],\n",
    "            \"lon\": geometry[\"coordinates\"][0],\n",
    "            \"depth\": geometry[\"coordinates\"][2]\n",
    "        })\n",
    "\n",
    "    return pd.DataFrame(earthquakes)\n",
    "\n",
    "# ✅ USGS API에서 실시간 데이터 가져오기\n",
    "df_global = get_global_earthquakes()\n",
    "print(df_global.head())  # 데이터 확인\n"
   ]
  },
  {
   "cell_type": "code",
   "execution_count": 204,
   "metadata": {},
   "outputs": [
    {
     "name": "stdout",
     "output_type": "stream",
     "text": [
      "✅ 데이터 전처리 완료!\n"
     ]
    }
   ],
   "source": [
    "from sklearn.preprocessing import StandardScaler\n",
    "\n",
    "# 1️⃣ KNN 학습을 위한 데이터 준비\n",
    "df_global = df_global.dropna()  # 결측값 제거\n",
    "X = df_global[['lat', 'lon', 'depth']]  # 위치 및 깊이 정보만 사용\n",
    "y = (df_global['magnitude'] > 4.0).astype(int)  # 규모 4.0 이상이면 1 (지진 발생 가능)\n",
    "\n",
    "# 2️⃣ 데이터 정규화 (KNN에서는 거리 기반 연산이므로 필수)\n",
    "scaler = StandardScaler()\n",
    "X_scaled = scaler.fit_transform(X)\n",
    "\n",
    "print(\"✅ 데이터 전처리 완료!\")\n"
   ]
  },
  {
   "cell_type": "code",
   "execution_count": 205,
   "metadata": {},
   "outputs": [
    {
     "name": "stdout",
     "output_type": "stream",
     "text": [
      "✅ KNN 모델 학습 완료!\n"
     ]
    }
   ],
   "source": [
    "from sklearn.neighbors import KNeighborsClassifier\n",
    "\n",
    "# 1️⃣ KNN 모델 학습\n",
    "knn = KNeighborsClassifier(n_neighbors=20,weights='distance')  # K값을 10으로 설정하여 예측 안정화\n",
    "knn.fit(X_scaled, y)\n",
    "\n",
    "print(\"✅ KNN 모델 학습 완료!\")\n"
   ]
  },
  {
   "cell_type": "code",
   "execution_count": 208,
   "metadata": {},
   "outputs": [
    {
     "name": "stdout",
     "output_type": "stream",
     "text": [
      "📍 37.5, 127.0의 지진 발생 확률: 95.65%\n"
     ]
    }
   ],
   "source": [
    "import numpy as np\n",
    "\n",
    "def predict_earthquake(lat, lon, depth=10.0):\n",
    "    \"\"\"\n",
    "    새로운 좌표의 지진 발생 확률을 KNN이 자동으로 예측\n",
    "    \"\"\"\n",
    "    input_df = pd.DataFrame([[lat, lon, depth]], columns=['lat', 'lon', 'depth'])\n",
    "    input_scaled = scaler.transform(input_df)\n",
    "    prob = knn.predict_proba(input_scaled)[0]  # 지진 발생 확률 (0~1)\n",
    "    return round(prob[1] * 100, 2) if len(prob) > 1 else round(prob[0] * 100, 2)\n",
    "\n",
    "# ✅ 특정 지역(서울)에서 지진 발생 확률 예측\n",
    "lat_test, lon_test = 37.5, 127.0  # 서울\n",
    "test_prob = predict_earthquake(lat_test, lon_test)\n",
    "print(f\"📍 {lat_test}, {lon_test}의 지진 발생 확률: {test_prob}%\")\n"
   ]
  },
  {
   "cell_type": "code",
   "execution_count": 209,
   "metadata": {},
   "outputs": [
    {
     "name": "stdout",
     "output_type": "stream",
     "text": [
      "✅ 훈련 데이터 개수: 1107\n"
     ]
    }
   ],
   "source": [
    "# 데이터 크기 확인\n",
    "print(\"✅ 훈련 데이터 개수:\", df_global.shape[0])\n"
   ]
  },
  {
   "cell_type": "code",
   "execution_count": 210,
   "metadata": {},
   "outputs": [
    {
     "name": "stderr",
     "output_type": "stream",
     "text": [
      "c:\\Users\\vhzkf\\anaconda3\\envs\\hi\\lib\\site-packages\\IPython\\core\\pylabtools.py:170: UserWarning: Glyph 44060 (\\N{HANGUL SYLLABLE GAE}) missing from font(s) DejaVu Sans.\n",
      "  fig.canvas.print_figure(bytes_io, **kw)\n",
      "c:\\Users\\vhzkf\\anaconda3\\envs\\hi\\lib\\site-packages\\IPython\\core\\pylabtools.py:170: UserWarning: Glyph 49688 (\\N{HANGUL SYLLABLE SU}) missing from font(s) DejaVu Sans.\n",
      "  fig.canvas.print_figure(bytes_io, **kw)\n",
      "c:\\Users\\vhzkf\\anaconda3\\envs\\hi\\lib\\site-packages\\IPython\\core\\pylabtools.py:170: UserWarning: Glyph 51648 (\\N{HANGUL SYLLABLE JI}) missing from font(s) DejaVu Sans.\n",
      "  fig.canvas.print_figure(bytes_io, **kw)\n",
      "c:\\Users\\vhzkf\\anaconda3\\envs\\hi\\lib\\site-packages\\IPython\\core\\pylabtools.py:170: UserWarning: Glyph 51652 (\\N{HANGUL SYLLABLE JIN}) missing from font(s) DejaVu Sans.\n",
      "  fig.canvas.print_figure(bytes_io, **kw)\n",
      "c:\\Users\\vhzkf\\anaconda3\\envs\\hi\\lib\\site-packages\\IPython\\core\\pylabtools.py:170: UserWarning: Glyph 44508 (\\N{HANGUL SYLLABLE GYU}) missing from font(s) DejaVu Sans.\n",
      "  fig.canvas.print_figure(bytes_io, **kw)\n",
      "c:\\Users\\vhzkf\\anaconda3\\envs\\hi\\lib\\site-packages\\IPython\\core\\pylabtools.py:170: UserWarning: Glyph 47784 (\\N{HANGUL SYLLABLE MO}) missing from font(s) DejaVu Sans.\n",
      "  fig.canvas.print_figure(bytes_io, **kw)\n",
      "c:\\Users\\vhzkf\\anaconda3\\envs\\hi\\lib\\site-packages\\IPython\\core\\pylabtools.py:170: UserWarning: Glyph 48516 (\\N{HANGUL SYLLABLE BUN}) missing from font(s) DejaVu Sans.\n",
      "  fig.canvas.print_figure(bytes_io, **kw)\n",
      "c:\\Users\\vhzkf\\anaconda3\\envs\\hi\\lib\\site-packages\\IPython\\core\\pylabtools.py:170: UserWarning: Glyph 54252 (\\N{HANGUL SYLLABLE PO}) missing from font(s) DejaVu Sans.\n",
      "  fig.canvas.print_figure(bytes_io, **kw)\n"
     ]
    },
    {
     "data": {
      "image/png": "[encoded data removed]",
      "text/plain": [
       "<Figure size 640x480 with 1 Axes>"
      ]
     },
     "metadata": {},
     "output_type": "display_data"
    }
   ],
   "source": [
    "import matplotlib.pyplot as plt\n",
    "\n",
    "plt.hist(df_global[\"magnitude\"], bins=20, color=\"blue\", alpha=0.7)\n",
    "plt.xlabel(\"Magnitude (지진 규모)\")\n",
    "plt.ylabel(\"Count (개수)\")\n",
    "plt.title(\"지진 규모 분포\")\n",
    "plt.show()\n"
   ]
  },
  {
   "cell_type": "code",
   "execution_count": 211,
   "metadata": {},
   "outputs": [
    {
     "name": "stdout",
     "output_type": "stream",
     "text": [
      "✅ 지진 발생 여부 비율:\n",
      "magnitude\n",
      "0    0.620596\n",
      "1    0.379404\n",
      "Name: proportion, dtype: float64\n"
     ]
    }
   ],
   "source": [
    "# ✅ 지진 발생 여부(y) 데이터 비율 확인\n",
    "print(\"✅ 지진 발생 여부 비율:\")\n",
    "print(df_global['magnitude'].apply(lambda x: 1 if x > 4.5 else 0).value_counts(normalize=True))\n"
   ]
  },
  {
   "cell_type": "code",
   "execution_count": 212,
   "metadata": {},
   "outputs": [
    {
     "name": "stdout",
     "output_type": "stream",
     "text": [
      "✅ 데이터 균형 조정 완료!\n",
      "count    1152.000000\n",
      "mean        4.489340\n",
      "std         0.417051\n",
      "min         3.500000\n",
      "25%         4.200000\n",
      "50%         4.480000\n",
      "75%         4.700000\n",
      "max         7.600000\n",
      "Name: magnitude, dtype: float64\n"
     ]
    }
   ],
   "source": [
    "from sklearn.utils import resample\n",
    "\n",
    "# ✅ 1. 규모 4.0~4.5 데이터와 4.5 이상 데이터를 분리\n",
    "df_small_quakes = df_global[df_global['magnitude'] < 4.5]  # 작은 지진\n",
    "df_large_quakes = df_global[df_global['magnitude'] >= 4.5]  # 큰 지진\n",
    "\n",
    "# ✅ 2. 큰 지진(4.5 이상)의 샘플 수를 늘리기 (Oversampling)\n",
    "if len(df_small_quakes) > 0:\n",
    "    df_large_quakes_resampled = resample(df_large_quakes,\n",
    "                                         replace=True,  # 복제 허용\n",
    "                                         n_samples=len(df_small_quakes),  # 작은 지진과 개수 맞추기\n",
    "                                         random_state=42)\n",
    "else:\n",
    "    df_large_quakes_resampled = df_large_quakes.copy()\n",
    "\n",
    "# ✅ 3. Oversampling된 데이터 병합 (균형 맞추기)\n",
    "df_balanced = pd.concat([df_small_quakes, df_large_quakes_resampled])\n",
    "\n",
    "print(\"✅ 데이터 균형 조정 완료!\")\n",
    "print(df_balanced['magnitude'].describe())  # 규모 분포 확인\n"
   ]
  },
  {
   "cell_type": "code",
   "execution_count": 213,
   "metadata": {},
   "outputs": [
    {
     "name": "stdout",
     "output_type": "stream",
     "text": [
      "✅ 새로운 KNN 모델 학습 완료!\n"
     ]
    }
   ],
   "source": [
    "# ✅ 1. 새로운 학습 데이터 설정\n",
    "X = df_balanced[['lat', 'lon', 'depth']]\n",
    "y = (df_balanced['magnitude'] >= 4.5).astype(int)  # 4.5 이상이면 1, 아니면 0\n",
    "\n",
    "# ✅ 2. 데이터 정규화\n",
    "scaler = StandardScaler()\n",
    "X_scaled = scaler.fit_transform(X)\n",
    "\n",
    "# ✅ 3. KNN 학습 (K값 증가)\n",
    "knn = KNeighborsClassifier(n_neighbors=500)  # 기존 30 → 50으로 증가\n",
    "knn.fit(X_scaled, y)\n",
    "\n",
    "print(\"✅ 새로운 KNN 모델 학습 완료!\")\n"
   ]
  },
  {
   "cell_type": "code",
   "execution_count": 214,
   "metadata": {},
   "outputs": [
    {
     "name": "stdout",
     "output_type": "stream",
     "text": [
      "📍 37.5, 127.0의 지진 발생 확률 (개선 후): 41.6%\n"
     ]
    }
   ],
   "source": [
    "test_prob = predict_earthquake(37.5, 127.0)\n",
    "print(f\"📍 37.5, 127.0의 지진 발생 확률 (개선 후): {test_prob}%\")\n"
   ]
  },
  {
   "cell_type": "code",
   "execution_count": 215,
   "metadata": {},
   "outputs": [
    {
     "name": "stdout",
     "output_type": "stream",
     "text": [
      "📍 37.5, 127.0의 지진 발생 확률 (Random Forest): 38.0%\n"
     ]
    }
   ],
   "source": [
    "from sklearn.ensemble import RandomForestClassifier\n",
    "\n",
    "# ✅ Random Forest 모델 학습\n",
    "rf = RandomForestClassifier(n_estimators=100, random_state=42)\n",
    "rf.fit(X_scaled, y)\n",
    "\n",
    "def predict_earthquake_rf(lat, lon, depth=10.0):\n",
    "    input_df = pd.DataFrame([[lat, lon, depth]], columns=['lat', 'lon', 'depth'])\n",
    "    input_scaled = scaler.transform(input_df)\n",
    "    prob = rf.predict_proba(input_scaled)[0][1]  # 지진 발생 확률 (0~1)\n",
    "    return round(prob * 100, 2)\n",
    "\n",
    "# ✅ Random Forest로 서울(37.5, 127.0) 예측\n",
    "test_prob_rf = predict_earthquake_rf(37.5, 127.0)\n",
    "print(f\"📍 37.5, 127.0의 지진 발생 확률 (Random Forest): {test_prob_rf}%\")\n"
   ]
  },
  {
   "cell_type": "code",
   "execution_count": 217,
   "metadata": {},
   "outputs": [
    {
     "name": "stdout",
     "output_type": "stream",
     "text": [
      "✅ 모델과 스케일러 저장 완료 (joblib 사용)\n"
     ]
    }
   ],
   "source": [
    "import joblib\n",
    "\n",
    "# ✅ 1. 모델 저장 (Random Forest)\n",
    "joblib.dump(rf, \"earthquake_model.joblib\")\n",
    "\n",
    "# ✅ 2. 스케일러 저장 (데이터 정규화를 위해 필요)\n",
    "joblib.dump(scaler, \"scaler.joblib\")\n",
    "\n",
    "print(\"✅ 모델과 스케일러 저장 완료 (joblib 사용)\")\n"
   ]
  }
 ],
 "metadata": {
  "kernelspec": {
   "display_name": "hi",
   "language": "python",
   "name": "python3"
  },
  "language_info": {
   "codemirror_mode": {
    "name": "ipython",
    "version": 3
   },
   "file_extension": ".py",
   "mimetype": "text/x-python",
   "name": "python",
   "nbconvert_exporter": "python",
   "pygments_lexer": "ipython3",
   "version": "3.10.16"
  }
 },
 "nbformat": 4,
 "nbformat_minor": 2
}
